{
 "cells": [
  {
   "cell_type": "code",
   "execution_count": 1,
   "metadata": {},
   "outputs": [],
   "source": [
    "#First import required libraries \n",
    "import requests\n",
    "import lxml.html as lh\n",
    "import pandas as pd "
   ]
  },
  {
   "cell_type": "code",
   "execution_count": 2,
   "metadata": {},
   "outputs": [],
   "source": [
    "#first declare variable to point to the website you did like to scrape or screen\n",
    "my_url = 'https://en.wikipedia.org/wiki/List_of_game_engines'\n",
    "\n",
    "#using the requests method to get the web page and assign it to a variable\n",
    "web_page = requests.get(my_url)\n",
    "\n",
    "#lxml 2.0 comes with a dedicated python package for dealing with HTML:lxml.html\n",
    "#fromstring object support to parse the html fragments as a tree. for example document_fromstring parse a document\n",
    "#where the <html> is the parent node.\n",
    "doc_html = lh.fromstring(web_page.content)\n",
    "\n"
   ]
  },
  {
   "cell_type": "code",
   "execution_count": 3,
   "metadata": {},
   "outputs": [
    {
     "name": "stdout",
     "output_type": "stream",
     "text": "[9, 9, 9, 9, 9, 9, 9, 9, 9]\n"
    }
   ],
   "source": [
    "#xpath is also another object of the lxml library \n",
    "#xpath can be use to find or findall elements in a tree\n",
    "#we want to caputure all the tr tags which represent each column of the table \n",
    "tr_elements = doc_html.xpath('//tr')\n",
    "\n",
    "#lets see if our rows are of the same number of columns \n",
    "print([len(T) for T in tr_elements[:9]])"
   ]
  },
  {
   "cell_type": "code",
   "execution_count": 4,
   "metadata": {},
   "outputs": [
    {
     "name": "stdout",
     "output_type": "stream",
     "text": "Name\nPrimary programming language\nScripting\nCross-platform\n2D/3D oriented\nTarget platform\nNotable games\nLicense\nNotes and references\n"
    }
   ],
   "source": [
    "#declare a cloumn that will store the values of each column \n",
    "col = []\n",
    "\n",
    "# this for loop is fr the first row of the table (header) \n",
    "for t in tr_elements[0]:\n",
    "    name = t.text_content().strip()\n",
    "\n",
    "#append the column header as a tuple because tuple are immutable objects\n",
    "    col.append((name,[]))\n",
    "# print the header to verify \n",
    "    print(name)"
   ]
  },
  {
   "cell_type": "code",
   "execution_count": 5,
   "metadata": {},
   "outputs": [
    {
     "name": "stdout",
     "output_type": "stream",
     "text": "[179, 179, 179, 179, 179, 179, 179, 179, 179]\n"
    }
   ],
   "source": [
    "# loop to interate through all elements of the table starting from the second row and store them in T.\n",
    "#in the second loop we will iterate through the the children of T and store the values as our data.\n",
    "for j in range (1,len(tr_elements)):\n",
    "    T = tr_elements[j]\n",
    "\n",
    "#this if condition is very vital. remember we find all the tr tags (rows) of the html page thus this condition \n",
    "# will include only roows from our table that has 9 colums.\n",
    "    if len(T) !=9:\n",
    "        break\n",
    "\n",
    "   \n",
    "    i =0\n",
    "    for t in T.iterchildren():\n",
    "        data = t.text_content()\n",
    "        if i >0:\n",
    "            try:\n",
    "                data = int(data)\n",
    "            except:\n",
    "                pass\n",
    "        col[i][1].append(data)\n",
    "        i +=1\n",
    "\n",
    "#to convert our dataset to a data frame all rows should have the number of columns\n",
    "#\n",
    "print([len(row) for (column , row) in col])"
   ]
  },
  {
   "cell_type": "code",
   "execution_count": 6,
   "metadata": {},
   "outputs": [],
   "source": [
    "#finally lets store our list of tuple as a dictionary\n",
    "Dict = {column:row for (column,row) in col}\n",
    "\n",
    "#store table in a dataframe format\n",
    "df = pd.DataFrame(Dict)\n",
    "\n",
    "#remove the \\n string \n",
    "df = df.replace('\\n','',regex=True)\n",
    "\n",
    "#replace cells with empty strings with N/A\n",
    "df = df.replace('','N/A',regex=True)\n",
    "\n"
   ]
  },
  {
   "cell_type": "code",
   "execution_count": 7,
   "metadata": {},
   "outputs": [
    {
     "data": {
      "text/plain": "0    True\n1    True\n2    True\n3    True\n4    True\nName: Notes and references, dtype: bool"
     },
     "execution_count": 7,
     "metadata": {},
     "output_type": "execute_result"
    }
   ],
   "source": [
    "df['Notes and references'].notna().head()"
   ]
  },
  {
   "cell_type": "code",
   "execution_count": 8,
   "metadata": {},
   "outputs": [
    {
     "data": {
      "text/plain": "179"
     },
     "execution_count": 8,
     "metadata": {},
     "output_type": "execute_result"
    }
   ],
   "source": [
    "len(df[\"Notes and references\"])"
   ]
  },
  {
   "cell_type": "code",
   "execution_count": 9,
   "metadata": {},
   "outputs": [
    {
     "data": {
      "text/html": "<div>\n<style scoped>\n    .dataframe tbody tr th:only-of-type {\n        vertical-align: middle;\n    }\n\n    .dataframe tbody tr th {\n        vertical-align: top;\n    }\n\n    .dataframe thead th {\n        text-align: right;\n    }\n</style>\n<table border=\"1\" class=\"dataframe\">\n  <thead>\n    <tr style=\"text-align: right;\">\n      <th></th>\n      <th>Name</th>\n      <th>Primary programming language</th>\n      <th>Scripting</th>\n      <th>Cross-platform</th>\n      <th>2D/3D oriented</th>\n      <th>Target platform</th>\n      <th>Notable games</th>\n      <th>License</th>\n      <th>Notes and references</th>\n    </tr>\n  </thead>\n  <tbody>\n    <tr>\n      <td>0</td>\n      <td>4A Engine</td>\n      <td>C++</td>\n      <td>N/A</td>\n      <td>Yes</td>\n      <td>3D</td>\n      <td>Windows, OS X, Linux, PlayStation 3, PlayStati...</td>\n      <td>Metro 2033, Metro: Last Light, Metro Exodus</td>\n      <td>Proprietary</td>\n      <td>N/A</td>\n    </tr>\n    <tr>\n      <td>1</td>\n      <td>A-Frame (VR)</td>\n      <td>HTML, JavaScript</td>\n      <td>JavaScript</td>\n      <td>Yes</td>\n      <td>3D</td>\n      <td>Cross-platform</td>\n      <td>A-Painter[1]</td>\n      <td>MIT</td>\n      <td>Open source Entity component system WebVR fram...</td>\n    </tr>\n    <tr>\n      <td>2</td>\n      <td>Adventure Game Interpreter</td>\n      <td>N/A</td>\n      <td>C style</td>\n      <td>Yes</td>\n      <td>2D</td>\n      <td>DOS, Apple SOS, ProDOS, Classic Mac OS, Atari TOS</td>\n      <td>List</td>\n      <td>Proprietary</td>\n      <td>N/A</td>\n    </tr>\n    <tr>\n      <td>3</td>\n      <td>Adventure Game Studio</td>\n      <td>C++</td>\n      <td>AGSScript</td>\n      <td>Yes</td>\n      <td>2D</td>\n      <td>Windows, Linux</td>\n      <td>Chzo Mythos, Blackwell</td>\n      <td>Artistic 2.0</td>\n      <td>Mostly used to develop third-person pre-render...</td>\n    </tr>\n    <tr>\n      <td>4</td>\n      <td>Alamo</td>\n      <td>N/A</td>\n      <td>N/A</td>\n      <td>Yes</td>\n      <td>3D</td>\n      <td>Windows, OS X, Xbox 360</td>\n      <td>Star Wars: Empire at War, Star Wars: Empire at...</td>\n      <td>Proprietary</td>\n      <td>N/A</td>\n    </tr>\n  </tbody>\n</table>\n</div>",
      "text/plain": "                         Name Primary programming language   Scripting  \\\n0                   4A Engine                          C++         N/A   \n1                A-Frame (VR)             HTML, JavaScript  JavaScript   \n2  Adventure Game Interpreter                          N/A     C style   \n3       Adventure Game Studio                          C++   AGSScript   \n4                       Alamo                          N/A         N/A   \n\n  Cross-platform 2D/3D oriented  \\\n0            Yes             3D   \n1            Yes             3D   \n2            Yes             2D   \n3            Yes             2D   \n4            Yes             3D   \n\n                                     Target platform  \\\n0  Windows, OS X, Linux, PlayStation 3, PlayStati...   \n1                                     Cross-platform   \n2  DOS, Apple SOS, ProDOS, Classic Mac OS, Atari TOS   \n3                                     Windows, Linux   \n4                            Windows, OS X, Xbox 360   \n\n                                       Notable games       License  \\\n0        Metro 2033, Metro: Last Light, Metro Exodus   Proprietary   \n1                                       A-Painter[1]           MIT   \n2                                               List   Proprietary   \n3                             Chzo Mythos, Blackwell  Artistic 2.0   \n4  Star Wars: Empire at War, Star Wars: Empire at...   Proprietary   \n\n                                Notes and references  \n0                                                N/A  \n1  Open source Entity component system WebVR fram...  \n2                                                N/A  \n3  Mostly used to develop third-person pre-render...  \n4                                                N/A  "
     },
     "execution_count": 9,
     "metadata": {},
     "output_type": "execute_result"
    }
   ],
   "source": [
    "df.head()"
   ]
  },
  {
   "cell_type": "code",
   "execution_count": 10,
   "metadata": {},
   "outputs": [
    {
     "data": {
      "text/html": "<div>\n<style scoped>\n    .dataframe tbody tr th:only-of-type {\n        vertical-align: middle;\n    }\n\n    .dataframe tbody tr th {\n        vertical-align: top;\n    }\n\n    .dataframe thead th {\n        text-align: right;\n    }\n</style>\n<table border=\"1\" class=\"dataframe\">\n  <thead>\n    <tr style=\"text-align: right;\">\n      <th></th>\n      <th>Name</th>\n      <th>Primary programming language</th>\n      <th>Scripting</th>\n      <th>Cross-platform</th>\n      <th>2D/3D oriented</th>\n      <th>Target platform</th>\n      <th>Notable games</th>\n      <th>License</th>\n      <th>Notes and references</th>\n    </tr>\n  </thead>\n  <tbody>\n    <tr>\n      <td>174</td>\n      <td>Xenko</td>\n      <td>C#</td>\n      <td>C#</td>\n      <td>Yes</td>\n      <td>2D/3D</td>\n      <td>Windows, OS X, Linux, Xbox One, iOS, Android, UWP</td>\n      <td>N/A</td>\n      <td>MIT</td>\n      <td>Since build in .NET it always supports latest C#.</td>\n    </tr>\n    <tr>\n      <td>175</td>\n      <td>XnGine</td>\n      <td>N/A</td>\n      <td>N/A</td>\n      <td>No</td>\n      <td>3D</td>\n      <td>DOS</td>\n      <td>The Terminator: Future Shock, The Terminator: ...</td>\n      <td>Proprietary</td>\n      <td>N/A</td>\n    </tr>\n    <tr>\n      <td>176</td>\n      <td>Zest3D</td>\n      <td>ActionScript 3, C++</td>\n      <td>Lua</td>\n      <td>Yes</td>\n      <td>3D</td>\n      <td>Web, Windows, Linux, OS X, Android, iOS, Black...</td>\n      <td>N/A</td>\n      <td>Boost</td>\n      <td>N/A</td>\n    </tr>\n    <tr>\n      <td>177</td>\n      <td>Zillions of Games</td>\n      <td>N/A</td>\n      <td>Zillions Rules</td>\n      <td>No</td>\n      <td>2D</td>\n      <td>Windows</td>\n      <td>N/A</td>\n      <td>Proprietary</td>\n      <td>N/A</td>\n    </tr>\n    <tr>\n      <td>178</td>\n      <td>Name</td>\n      <td>Primary programming language</td>\n      <td>Scripting</td>\n      <td>Cross-platform</td>\n      <td>2D/3D oriented</td>\n      <td>Target platform</td>\n      <td>Notable games</td>\n      <td>License</td>\n      <td>Notes and references</td>\n    </tr>\n  </tbody>\n</table>\n</div>",
      "text/plain": "                  Name  Primary programming language       Scripting  \\\n174              Xenko                            C#              C#   \n175             XnGine                           N/A             N/A   \n176             Zest3D           ActionScript 3, C++             Lua   \n177  Zillions of Games                           N/A  Zillions Rules   \n178               Name  Primary programming language       Scripting   \n\n     Cross-platform  2D/3D oriented  \\\n174             Yes           2D/3D   \n175              No              3D   \n176             Yes              3D   \n177              No              2D   \n178  Cross-platform  2D/3D oriented   \n\n                                       Target platform  \\\n174  Windows, OS X, Linux, Xbox One, iOS, Android, UWP   \n175                                                DOS   \n176  Web, Windows, Linux, OS X, Android, iOS, Black...   \n177                                            Windows   \n178                                    Target platform   \n\n                                         Notable games      License  \\\n174                                                N/A          MIT   \n175  The Terminator: Future Shock, The Terminator: ...  Proprietary   \n176                                                N/A        Boost   \n177                                                N/A  Proprietary   \n178                                      Notable games      License   \n\n                                  Notes and references  \n174  Since build in .NET it always supports latest C#.  \n175                                                N/A  \n176                                                N/A  \n177                                                N/A  \n178                               Notes and references  "
     },
     "execution_count": 10,
     "metadata": {},
     "output_type": "execute_result"
    }
   ],
   "source": [
    "df.tail()"
   ]
  },
  {
   "cell_type": "code",
   "execution_count": 11,
   "metadata": {},
   "outputs": [],
   "source": [
    "df.to_csv('List_of_game_engines.csv')"
   ]
  },
  {
   "cell_type": "code",
   "execution_count": 12,
   "metadata": {},
   "outputs": [],
   "source": [
    "df.to_json('List_of_game_engines.json')"
   ]
  },
  {
   "cell_type": "code",
   "execution_count": null,
   "metadata": {},
   "outputs": [],
   "source": []
  }
 ],
 "metadata": {
  "kernelspec": {
   "display_name": "Python 3",
   "language": "python",
   "name": "python3"
  },
  "language_info": {
   "codemirror_mode": {
    "name": "ipython",
    "version": 3
   },
   "file_extension": ".py",
   "mimetype": "text/x-python",
   "name": "python",
   "nbconvert_exporter": "python",
   "pygments_lexer": "ipython3",
   "version": "3.7.4-final"
  }
 },
 "nbformat": 4,
 "nbformat_minor": 2
}